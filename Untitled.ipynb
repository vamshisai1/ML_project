{
 "cells": [
  {
   "cell_type": "code",
   "execution_count": null,
   "id": "4ddd87b3",
   "metadata": {},
   "outputs": [],
   "source": [
    "import pandas as pd\n",
    "\n",
    "# 1. Load the dataset into a pandas DataFrame\n",
    "# Replace 'dataset.csv' with the path to your dataset file\n",
    "df = pd.read_csv(\"C:\\Users\\vamsh\\Downloads\\traning\\sales_data.csv\"')\n",
    "\n",
    "# 2. Display the first 5 rows of the DataFrame\n",
    "print(\"First 5 rows of the dataset:\")\n",
    "print(df.head())\n",
    "\n",
    "# 3. Check for any missing values in the dataset\n",
    "print(\"\\nMissing values in the dataset:\")\n",
    "print(df.isnull().sum())\n",
    "\n",
    "# 4. Add a new column 'Total Sales' that multiplies 'Quantity Ordered' by 'Price Each'\n",
    "# Assuming 'Quantity Ordered' and 'Price Each' are columns in the dataset\n",
    "df['Total Sales'] = df['Quantity Ordered'] * df['Price Each']\n",
    "print(\"\\nDataset with Total Sales column added:\")\n",
    "print(df.head())\n",
    "\n",
    "# 5. Find the total sales for each city and display it as a new DataFrame\n",
    "# Assuming 'City' is a column in the dataset\n",
    "total_sales_by_city = df.groupby('City')['Total Sales'].sum().reset_index()\n",
    "print(\"\\nTotal sales for each city:\")\n",
    "print(total_sales_by_city)\n",
    "\n",
    "# 6. Identify the product with the highest total sales\n",
    "# Assuming 'Product' is a column in the dataset\n",
    "total_sales_by_product = df.groupby('Product')['Total Sales'].sum().reset_index()\n",
    "product_highest_sales = total_sales_by_product.loc[total_sales_by_product['Total Sales'].idxmax()]\n",
    "print(\"\\nProduct with the highest total sales:\")\n",
    "print(product_highest_sales)"
   ]
  }
 ],
 "metadata": {
  "kernelspec": {
   "display_name": "Python 3 (ipykernel)",
   "language": "python",
   "name": "python3"
  },
  "language_info": {
   "codemirror_mode": {
    "name": "ipython",
    "version": 3
   },
   "file_extension": ".py",
   "mimetype": "text/x-python",
   "name": "python",
   "nbconvert_exporter": "python",
   "pygments_lexer": "ipython3",
   "version": "3.9.13"
  }
 },
 "nbformat": 4,
 "nbformat_minor": 5
}
